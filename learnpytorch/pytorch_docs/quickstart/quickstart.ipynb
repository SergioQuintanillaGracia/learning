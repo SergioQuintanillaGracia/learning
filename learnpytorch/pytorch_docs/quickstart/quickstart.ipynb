{
 "cells": [
  {
   "cell_type": "code",
   "execution_count": 121,
   "id": "8b9933ae",
   "metadata": {},
   "outputs": [],
   "source": [
    "import torch\n",
    "from torch import nn\n",
    "from torch.utils.data import DataLoader\n",
    "from torchvision import datasets\n",
    "from torchvision.transforms import ToTensor"
   ]
  },
  {
   "cell_type": "code",
   "execution_count": 122,
   "id": "b0fa3ebb",
   "metadata": {},
   "outputs": [],
   "source": [
    "# Download training data\n",
    "training_data = datasets.FashionMNIST(\n",
    "    root=\"data\",\n",
    "    train=True,\n",
    "    download=True,\n",
    "    transform=ToTensor(),\n",
    ")\n",
    "\n",
    "# Download test data\n",
    "test_data = datasets.FashionMNIST(\n",
    "    root=\"data\",\n",
    "    train=False,\n",
    "    download=True,\n",
    "    transform=ToTensor()\n",
    ")"
   ]
  },
  {
   "cell_type": "code",
   "execution_count": 123,
   "id": "e3845db7",
   "metadata": {},
   "outputs": [
    {
     "name": "stdout",
     "output_type": "stream",
     "text": [
      "Shape of X [N, C, H, W]: torch.Size([64, 1, 28, 28])\n",
      "Shape of y: torch.Size([64]) torch.int64\n"
     ]
    }
   ],
   "source": [
    "batch_size = 64\n",
    "\n",
    "# Create data loaders\n",
    "train_dataloader = DataLoader(training_data, batch_size=batch_size)\n",
    "test_dataloader = DataLoader(test_data, batch_size=batch_size)\n",
    "\n",
    "for X, y in test_dataloader:\n",
    "    print(f\"Shape of X [N, C, H, W]: {X.shape}\")\n",
    "    print(f\"Shape of y: {y.shape} {y.dtype}\")\n",
    "    break"
   ]
  },
  {
   "cell_type": "code",
   "execution_count": 124,
   "id": "bd1ad5fa",
   "metadata": {},
   "outputs": [
    {
     "name": "stdout",
     "output_type": "stream",
     "text": [
      "Using cuda device\n",
      "NeuralNetwork(\n",
      "  (flatten): Flatten(start_dim=1, end_dim=-1)\n",
      "  (linear_relu_stack): Sequential(\n",
      "    (0): Linear(in_features=784, out_features=512, bias=True)\n",
      "    (1): ReLU()\n",
      "    (2): Linear(in_features=512, out_features=512, bias=True)\n",
      "    (3): ReLU()\n",
      "    (4): Linear(in_features=512, out_features=10, bias=True)\n",
      "  )\n",
      ")\n"
     ]
    }
   ],
   "source": [
    "device = torch.accelerator.current_accelerator().type if torch.accelerator.is_available() else \"cpu\"\n",
    "print(f\"Using {device} device\")\n",
    "\n",
    "class NeuralNetwork(nn.Module):\n",
    "    def __init__(self):\n",
    "        super().__init__()\n",
    "        self.flatten = nn.Flatten()\n",
    "        self.linear_relu_stack = nn.Sequential(\n",
    "            nn.Linear(28*28, 512),\n",
    "            nn.ReLU(),\n",
    "            nn.Linear(512, 512),\n",
    "            nn.ReLU(),\n",
    "            nn.Linear(512, 10)\n",
    "        )\n",
    "    \n",
    "    def forward(self, x):\n",
    "        x = self.flatten(x)\n",
    "        logits = self.linear_relu_stack(x)\n",
    "        return logits\n",
    "\n",
    "model = NeuralNetwork().to(device)\n",
    "print(model)"
   ]
  },
  {
   "cell_type": "code",
   "execution_count": 125,
   "id": "3fe3dff2",
   "metadata": {},
   "outputs": [],
   "source": [
    "loss_fn = nn.CrossEntropyLoss()\n",
    "optimizer = torch.optim.SGD(model.parameters(), lr=1e-3)"
   ]
  },
  {
   "cell_type": "code",
   "execution_count": 126,
   "id": "80daa5d8",
   "metadata": {},
   "outputs": [],
   "source": [
    "def train(dataloader, model, loss_fn, optimizer):\n",
    "    size = len(dataloader.dataset)\n",
    "    model.train()\n",
    "\n",
    "    for batch, (X, y) in enumerate(dataloader):\n",
    "        X, y = X.to(device), y.to(device)\n",
    "\n",
    "        # Compute prediction error\n",
    "        pred = model(X)\n",
    "        loss = loss_fn(pred, y)\n",
    "\n",
    "        # Backpropagation\n",
    "        loss.backward()\n",
    "        optimizer.step()\n",
    "        optimizer.zero_grad()\n",
    "\n",
    "        if batch % 100 == 0:\n",
    "            loss, current = loss.item(), (batch + 1) * len(X)\n",
    "            print(f\"loss: {loss:>7f}  [{current:>5d}/{size:>5d}]\")"
   ]
  },
  {
   "cell_type": "code",
   "execution_count": 127,
   "id": "491b98f5",
   "metadata": {},
   "outputs": [],
   "source": [
    "def test(dataloader, model, loss_fn):\n",
    "    size = len(dataloader.dataset)\n",
    "    num_batches = len(dataloader)\n",
    "    model.eval()\n",
    "\n",
    "    test_loss, correct = 0, 0\n",
    "    with torch.no_grad():\n",
    "        for X, y in dataloader:\n",
    "            X, y = X.to(device), y.to(device)\n",
    "            pred = model(X)\n",
    "            test_loss = loss_fn(pred, y).item()\n",
    "            correct += (pred.argmax(dim=1) == y).type(torch.float).sum().item()\n",
    "        \n",
    "    test_loss /= num_batches\n",
    "    correct /= size\n",
    "\n",
    "    print(f\"Test error:\\n\\tAccuracy: {(100*correct):>0.1f}%, Avg loss: {test_loss:>8f}\")"
   ]
  },
  {
   "cell_type": "code",
   "execution_count": 128,
   "id": "f2531f33",
   "metadata": {},
   "outputs": [
    {
     "name": "stdout",
     "output_type": "stream",
     "text": [
      "Epoch 1\n",
      "---------------------------------\n",
      "loss: 2.309588  [   64/60000]\n",
      "loss: 2.293212  [ 6464/60000]\n",
      "loss: 2.270949  [12864/60000]\n",
      "loss: 2.263487  [19264/60000]\n",
      "loss: 2.240457  [25664/60000]\n",
      "loss: 2.217494  [32064/60000]\n",
      "loss: 2.230232  [38464/60000]\n",
      "loss: 2.195473  [44864/60000]\n",
      "loss: 2.197083  [51264/60000]\n",
      "loss: 2.166054  [57664/60000]\n",
      "Test error:\n",
      "\tAccuracy: 47.8%, Avg loss: 0.013790\n",
      "Epoch 2\n",
      "---------------------------------\n",
      "loss: 2.167205  [   64/60000]\n",
      "loss: 2.156587  [ 6464/60000]\n",
      "loss: 2.092558  [12864/60000]\n",
      "loss: 2.115104  [19264/60000]\n",
      "loss: 2.053104  [25664/60000]\n",
      "loss: 1.995687  [32064/60000]\n",
      "loss: 2.041749  [38464/60000]\n",
      "loss: 1.951917  [44864/60000]\n",
      "loss: 1.970835  [51264/60000]\n",
      "loss: 1.906772  [57664/60000]\n",
      "Test error:\n",
      "\tAccuracy: 53.6%, Avg loss: 0.012190\n",
      "Epoch 3\n",
      "---------------------------------\n",
      "loss: 1.925564  [   64/60000]\n",
      "loss: 1.897625  [ 6464/60000]\n",
      "loss: 1.768363  [12864/60000]\n",
      "loss: 1.821610  [19264/60000]\n",
      "loss: 1.699319  [25664/60000]\n",
      "loss: 1.649927  [32064/60000]\n",
      "loss: 1.696485  [38464/60000]\n",
      "loss: 1.583517  [44864/60000]\n",
      "loss: 1.621535  [51264/60000]\n",
      "loss: 1.524896  [57664/60000]\n",
      "Test error:\n",
      "\tAccuracy: 60.2%, Avg loss: 0.009794\n",
      "Epoch 4\n",
      "---------------------------------\n",
      "loss: 1.593530  [   64/60000]\n",
      "loss: 1.563115  [ 6464/60000]\n",
      "loss: 1.399499  [12864/60000]\n",
      "loss: 1.482518  [19264/60000]\n",
      "loss: 1.352551  [25664/60000]\n",
      "loss: 1.341078  [32064/60000]\n",
      "loss: 1.374935  [38464/60000]\n",
      "loss: 1.292422  [44864/60000]\n",
      "loss: 1.334749  [51264/60000]\n",
      "loss: 1.235783  [57664/60000]\n",
      "Test error:\n",
      "\tAccuracy: 63.0%, Avg loss: 0.007952\n",
      "Epoch 5\n",
      "---------------------------------\n",
      "loss: 1.329682  [   64/60000]\n",
      "loss: 1.319311  [ 6464/60000]\n",
      "loss: 1.142873  [12864/60000]\n",
      "loss: 1.257351  [19264/60000]\n",
      "loss: 1.125565  [25664/60000]\n",
      "loss: 1.137819  [32064/60000]\n",
      "loss: 1.173178  [38464/60000]\n",
      "loss: 1.111665  [44864/60000]\n",
      "loss: 1.157226  [51264/60000]\n",
      "loss: 1.066468  [57664/60000]\n",
      "Test error:\n",
      "\tAccuracy: 64.5%, Avg loss: 0.006718\n",
      "Done!\n"
     ]
    }
   ],
   "source": [
    "epochs = 5\n",
    "for t in range(epochs):\n",
    "    print(f\"Epoch {t+1}\\n---------------------------------\")\n",
    "    train(train_dataloader, model, loss_fn, optimizer)\n",
    "    test(test_dataloader, model, loss_fn)\n",
    "print(\"Done!\")"
   ]
  },
  {
   "cell_type": "code",
   "execution_count": 129,
   "id": "1b627d85",
   "metadata": {},
   "outputs": [
    {
     "name": "stdout",
     "output_type": "stream",
     "text": [
      "Saved model to model.pth\n"
     ]
    }
   ],
   "source": [
    "torch.save(model.state_dict(), \"model.pth\")\n",
    "print(\"Saved model to model.pth\")"
   ]
  },
  {
   "cell_type": "code",
   "execution_count": 130,
   "id": "eaf1fc9d",
   "metadata": {},
   "outputs": [
    {
     "data": {
      "text/plain": [
       "<All keys matched successfully>"
      ]
     },
     "execution_count": 130,
     "metadata": {},
     "output_type": "execute_result"
    }
   ],
   "source": [
    "model = NeuralNetwork().to(device)\n",
    "model.load_state_dict(torch.load(\"model.pth\", weights_only=True))"
   ]
  },
  {
   "cell_type": "code",
   "execution_count": 131,
   "id": "ff087168",
   "metadata": {},
   "outputs": [
    {
     "name": "stdout",
     "output_type": "stream",
     "text": [
      "Predicted: \"Ankle boot\", Actual: \"Ankle boot\"\n"
     ]
    }
   ],
   "source": [
    "classes = [\n",
    "    \"T-shirt/top\",\n",
    "    \"Trouser\",\n",
    "    \"Pullover\",\n",
    "    \"Dress\",\n",
    "    \"Coat\",\n",
    "    \"Sandal\",\n",
    "    \"Shirt\",\n",
    "    \"Sneaker\",\n",
    "    \"Bag\",\n",
    "    \"Ankle boot\",\n",
    "]\n",
    "\n",
    "model.eval()\n",
    "x, y = test_data[0][0], test_data[0][1]\n",
    "with torch.no_grad():\n",
    "    x = x.to(device)\n",
    "    pred = model(x)\n",
    "    predicted, actual = classes[pred[0].argmax(0)], classes[y]\n",
    "    print(f'Predicted: \"{predicted}\", Actual: \"{actual}\"')"
   ]
  }
 ],
 "metadata": {
  "kernelspec": {
   "display_name": ".venv (3.13.5)",
   "language": "python",
   "name": "python3"
  },
  "language_info": {
   "codemirror_mode": {
    "name": "ipython",
    "version": 3
   },
   "file_extension": ".py",
   "mimetype": "text/x-python",
   "name": "python",
   "nbconvert_exporter": "python",
   "pygments_lexer": "ipython3",
   "version": "3.13.5"
  }
 },
 "nbformat": 4,
 "nbformat_minor": 5
}
