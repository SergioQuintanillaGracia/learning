{
 "cells": [
  {
   "cell_type": "code",
   "execution_count": 1,
   "id": "cfac0e95",
   "metadata": {},
   "outputs": [],
   "source": [
    "import os\n",
    "import torch\n",
    "from torch import nn\n",
    "from torch.utils.data import DataLoader\n",
    "from torchvision import datasets, transforms"
   ]
  },
  {
   "cell_type": "code",
   "execution_count": 4,
   "id": "dcf4f8ad",
   "metadata": {},
   "outputs": [
    {
     "name": "stdout",
     "output_type": "stream",
     "text": [
      "Using cuda device\n"
     ]
    }
   ],
   "source": [
    "device = torch.accelerator.current_accelerator().type if torch.accelerator.is_available() else \"cpu\"\n",
    "print(f\"Using {device} device\")"
   ]
  },
  {
   "cell_type": "code",
   "execution_count": 18,
   "id": "99d46101",
   "metadata": {},
   "outputs": [],
   "source": [
    "class NeuralNetwork(nn.Module):\n",
    "    def __init__(self):\n",
    "        super().__init__()\n",
    "        self.flatten = nn.Flatten()\n",
    "        self.linear_relu_stack = nn.Sequential(\n",
    "            nn.Linear(28*28, 512),\n",
    "            nn.ReLU(),\n",
    "            nn.Linear(512, 512),\n",
    "            nn.ReLU(),\n",
    "            nn.Linear(512, 10),\n",
    "        )\n",
    "    \n",
    "    def forward(self, x):\n",
    "        x = self.flatten(x)\n",
    "        logits = self.linear_relu_stack(x)\n",
    "        return logits"
   ]
  },
  {
   "cell_type": "code",
   "execution_count": 19,
   "id": "0c9eca9d",
   "metadata": {},
   "outputs": [
    {
     "data": {
      "text/plain": [
       "NeuralNetwork(\n",
       "  (flatten): Flatten(start_dim=1, end_dim=-1)\n",
       "  (linear_relu_stack): Sequential(\n",
       "    (0): Linear(in_features=784, out_features=512, bias=True)\n",
       "    (1): ReLU()\n",
       "    (2): Linear(in_features=512, out_features=512, bias=True)\n",
       "    (3): ReLU()\n",
       "    (4): Linear(in_features=512, out_features=10, bias=True)\n",
       "  )\n",
       ")"
      ]
     },
     "execution_count": 19,
     "metadata": {},
     "output_type": "execute_result"
    }
   ],
   "source": [
    "model = NeuralNetwork().to(device)\n",
    "model"
   ]
  },
  {
   "cell_type": "code",
   "execution_count": 25,
   "id": "e73b66e8",
   "metadata": {},
   "outputs": [
    {
     "name": "stdout",
     "output_type": "stream",
     "text": [
      "Predicted class: 6\n"
     ]
    }
   ],
   "source": [
    "X = torch.rand(1, 28, 28, device=device)\n",
    "logits = model(X)\n",
    "logits\n",
    "pred_probab = nn.Softmax(dim=1)(logits)\n",
    "y_pred = pred_probab.argmax(1).item()\n",
    "print(f\"Predicted class: {y_pred}\")\n"
   ]
  },
  {
   "cell_type": "code",
   "execution_count": 27,
   "id": "ea2a635b",
   "metadata": {},
   "outputs": [
    {
     "data": {
      "text/plain": [
       "torch.Size([3, 28, 28])"
      ]
     },
     "execution_count": 27,
     "metadata": {},
     "output_type": "execute_result"
    }
   ],
   "source": [
    "input_image = torch.rand(3, 28, 28)\n",
    "input_image.size()"
   ]
  },
  {
   "cell_type": "code",
   "execution_count": 29,
   "id": "cf94de6d",
   "metadata": {},
   "outputs": [
    {
     "data": {
      "text/plain": [
       "torch.Size([3, 784])"
      ]
     },
     "execution_count": 29,
     "metadata": {},
     "output_type": "execute_result"
    }
   ],
   "source": [
    "flatten = nn.Flatten()\n",
    "flat_image = flatten(input_image)\n",
    "flat_image.size()"
   ]
  },
  {
   "cell_type": "code",
   "execution_count": 34,
   "id": "bae45435",
   "metadata": {},
   "outputs": [
    {
     "data": {
      "text/plain": [
       "torch.Size([3, 20])"
      ]
     },
     "execution_count": 34,
     "metadata": {},
     "output_type": "execute_result"
    }
   ],
   "source": [
    "layer1 = nn.Linear(in_features=28*28, out_features=20)\n",
    "hidden1 = layer1(flat_image)\n",
    "hidden1.size()"
   ]
  },
  {
   "cell_type": "code",
   "execution_count": 36,
   "id": "fbbe672c",
   "metadata": {},
   "outputs": [
    {
     "name": "stdout",
     "output_type": "stream",
     "text": [
      "Before ReLU: tensor([[0.0000, 0.1675, 0.0000, 0.0000, 0.4016, 0.1840, 0.0000, 0.9477, 0.0000,\n",
      "         0.0000, 0.0000, 0.0000, 0.2797, 0.2449, 0.1980, 0.0000, 0.2142, 0.7996,\n",
      "         0.5218, 0.0267],\n",
      "        [0.0000, 0.2628, 0.0000, 0.0000, 0.4006, 0.1677, 0.0000, 0.3588, 0.1254,\n",
      "         0.0000, 0.0000, 0.0000, 0.0273, 0.0000, 0.0000, 0.0386, 0.1358, 0.3342,\n",
      "         0.0000, 0.0000],\n",
      "        [0.0000, 0.1041, 0.0334, 0.0000, 0.3790, 0.0000, 0.0000, 0.5677, 0.0346,\n",
      "         0.0000, 0.0000, 0.0000, 0.0891, 0.0691, 0.1799, 0.0000, 0.2063, 0.9770,\n",
      "         0.1704, 0.0000]], grad_fn=<ReluBackward0>)\n",
      "\n",
      "\n",
      "After ReLU: tensor([[0.0000, 0.1675, 0.0000, 0.0000, 0.4016, 0.1840, 0.0000, 0.9477, 0.0000,\n",
      "         0.0000, 0.0000, 0.0000, 0.2797, 0.2449, 0.1980, 0.0000, 0.2142, 0.7996,\n",
      "         0.5218, 0.0267],\n",
      "        [0.0000, 0.2628, 0.0000, 0.0000, 0.4006, 0.1677, 0.0000, 0.3588, 0.1254,\n",
      "         0.0000, 0.0000, 0.0000, 0.0273, 0.0000, 0.0000, 0.0386, 0.1358, 0.3342,\n",
      "         0.0000, 0.0000],\n",
      "        [0.0000, 0.1041, 0.0334, 0.0000, 0.3790, 0.0000, 0.0000, 0.5677, 0.0346,\n",
      "         0.0000, 0.0000, 0.0000, 0.0891, 0.0691, 0.1799, 0.0000, 0.2063, 0.9770,\n",
      "         0.1704, 0.0000]], grad_fn=<ReluBackward0>)\n"
     ]
    }
   ],
   "source": [
    "print(f\"Before ReLU: {hidden1}\\n\\n\")\n",
    "hidden1 = nn.ReLU()(hidden1)\n",
    "print(f\"After ReLU: {hidden1}\")"
   ]
  },
  {
   "cell_type": "code",
   "execution_count": 44,
   "id": "45b0f137",
   "metadata": {},
   "outputs": [
    {
     "data": {
      "text/plain": [
       "tensor([[ 0.1971,  0.1029, -0.0535, -0.1516,  0.1379, -0.0631,  0.0278,  0.0770,\n",
       "         -0.2513, -0.2982],\n",
       "        [ 0.1849,  0.1487, -0.0059, -0.1659,  0.1041, -0.0357,  0.0543,  0.1103,\n",
       "         -0.3095, -0.2971],\n",
       "        [ 0.2163,  0.1967,  0.0780, -0.0248,  0.2203,  0.0833, -0.0343,  0.1808,\n",
       "         -0.2367, -0.4303]], grad_fn=<AddmmBackward0>)"
      ]
     },
     "execution_count": 44,
     "metadata": {},
     "output_type": "execute_result"
    }
   ],
   "source": [
    "seq_modules = nn.Sequential(\n",
    "    flatten,\n",
    "    layer1,\n",
    "    nn.ReLU(),\n",
    "    nn.Linear(20, 10)\n",
    ")\n",
    "\n",
    "input_image = torch.rand(3, 28, 28)\n",
    "logits = seq_modules(input_image)\n",
    "logits"
   ]
  },
  {
   "cell_type": "code",
   "execution_count": 46,
   "id": "b1811263",
   "metadata": {},
   "outputs": [
    {
     "data": {
      "text/plain": [
       "(tensor([[0.1237, 0.1125, 0.0963, 0.0873, 0.1166, 0.0953, 0.1044, 0.1097, 0.0790,\n",
       "          0.0754],\n",
       "         [0.1212, 0.1169, 0.1001, 0.0853, 0.1118, 0.0972, 0.1063, 0.1125, 0.0739,\n",
       "          0.0748],\n",
       "         [0.1188, 0.1165, 0.1034, 0.0933, 0.1192, 0.1040, 0.0924, 0.1146, 0.0755,\n",
       "          0.0622]], grad_fn=<SoftmaxBackward0>),\n",
       " tensor([0, 0, 4]))"
      ]
     },
     "execution_count": 46,
     "metadata": {},
     "output_type": "execute_result"
    }
   ],
   "source": [
    "softmax = nn.Softmax(dim=1)\n",
    "pred_probab = softmax(logits)\n",
    "pred_class = pred_probab.argmax(dim=1)\n",
    "pred_probab, pred_class"
   ]
  },
  {
   "cell_type": "code",
   "execution_count": 50,
   "id": "8f4daa30",
   "metadata": {},
   "outputs": [
    {
     "name": "stdout",
     "output_type": "stream",
     "text": [
      "Model structure: NeuralNetwork(\n",
      "  (flatten): Flatten(start_dim=1, end_dim=-1)\n",
      "  (linear_relu_stack): Sequential(\n",
      "    (0): Linear(in_features=784, out_features=512, bias=True)\n",
      "    (1): ReLU()\n",
      "    (2): Linear(in_features=512, out_features=512, bias=True)\n",
      "    (3): ReLU()\n",
      "    (4): Linear(in_features=512, out_features=10, bias=True)\n",
      "  )\n",
      ")\n",
      "\n",
      "\n",
      "Layer: linear_relu_stack.0.weight | Size: torch.Size([512, 784]) | Values: tensor([[-0.0318,  0.0284,  0.0216,  ..., -0.0133, -0.0265,  0.0299],\n",
      "        [-0.0230, -0.0154,  0.0151,  ...,  0.0091,  0.0274,  0.0304]],\n",
      "       device='cuda:0', grad_fn=<SliceBackward0>)\n",
      "\n",
      "Layer: linear_relu_stack.0.bias | Size: torch.Size([512]) | Values: tensor([ 0.0288, -0.0347], device='cuda:0', grad_fn=<SliceBackward0>)\n",
      "\n",
      "Layer: linear_relu_stack.2.weight | Size: torch.Size([512, 512]) | Values: tensor([[ 0.0322,  0.0125,  0.0098,  ..., -0.0255,  0.0406, -0.0144],\n",
      "        [-0.0412,  0.0068,  0.0148,  ...,  0.0290, -0.0090, -0.0282]],\n",
      "       device='cuda:0', grad_fn=<SliceBackward0>)\n",
      "\n",
      "Layer: linear_relu_stack.2.bias | Size: torch.Size([512]) | Values: tensor([-0.0105,  0.0152], device='cuda:0', grad_fn=<SliceBackward0>)\n",
      "\n",
      "Layer: linear_relu_stack.4.weight | Size: torch.Size([10, 512]) | Values: tensor([[-0.0323,  0.0062,  0.0250,  ...,  0.0350,  0.0090, -0.0030],\n",
      "        [ 0.0006, -0.0286,  0.0225,  ..., -0.0030,  0.0411,  0.0171]],\n",
      "       device='cuda:0', grad_fn=<SliceBackward0>)\n",
      "\n",
      "Layer: linear_relu_stack.4.bias | Size: torch.Size([10]) | Values: tensor([ 0.0305, -0.0382], device='cuda:0', grad_fn=<SliceBackward0>)\n",
      "\n"
     ]
    }
   ],
   "source": [
    "print(f\"Model structure: {model}\\n\\n\")\n",
    "\n",
    "for name, param in model.named_parameters():\n",
    "    print(f\"Layer: {name} | Size: {param.size()} | Values: {param[:2]}\\n\")"
   ]
  }
 ],
 "metadata": {
  "kernelspec": {
   "display_name": ".venv (3.13.5)",
   "language": "python",
   "name": "python3"
  },
  "language_info": {
   "codemirror_mode": {
    "name": "ipython",
    "version": 3
   },
   "file_extension": ".py",
   "mimetype": "text/x-python",
   "name": "python",
   "nbconvert_exporter": "python",
   "pygments_lexer": "ipython3",
   "version": "3.13.5"
  }
 },
 "nbformat": 4,
 "nbformat_minor": 5
}
